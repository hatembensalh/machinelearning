{
 "cells": [
  {
   "cell_type": "code",
   "execution_count": 1,
   "metadata": {
    "colab": {
     "base_uri": "https://localhost:8080/",
     "height": 342
    },
    "id": "dU5t6I3hJXZ_",
    "outputId": "20e16ba4-82e4-401e-d439-dd685af42184"
   },
   "outputs": [
    {
     "name": "stderr",
     "output_type": "stream",
     "text": [
      "C:\\Users\\habensalah\\AppData\\Local\\Temp\\ipykernel_15824\\673229951.py:7: DtypeWarning: Columns (1,3) have mixed types. Specify dtype option on import or set low_memory=False.\n",
      "  df = pd.read_csv('C:/Users/habensalah/Downloads/Project 1/Project 1/projet1.csv')\n"
     ]
    }
   ],
   "source": [
    "import matplotlib.pyplot as plt\n",
    "import pandas as pd\n",
    "import seaborn as sns\n",
    "from sklearn.preprocessing import LabelEncoder\n",
    "\n",
    "\n",
    "df = pd.read_csv('C:/Users/habensalah/Downloads/Project 1/Project 1/projet1.csv')\n",
    "\n"
   ]
  },
  {
   "cell_type": "markdown",
   "metadata": {},
   "source": [
    "# Data visualization \n"
   ]
  },
  {
   "cell_type": "code",
   "execution_count": 3,
   "metadata": {
    "colab": {
     "base_uri": "https://localhost:8080/",
     "height": 278
    },
    "id": "NRqm7S-6zmmL",
    "outputId": "4ece0f67-44a2-43c1-d7b5-a82e3eda52cb"
   },
   "outputs": [
    {
     "data": {
      "text/html": [
       "<div>\n",
       "<style scoped>\n",
       "    .dataframe tbody tr th:only-of-type {\n",
       "        vertical-align: middle;\n",
       "    }\n",
       "\n",
       "    .dataframe tbody tr th {\n",
       "        vertical-align: top;\n",
       "    }\n",
       "\n",
       "    .dataframe thead th {\n",
       "        text-align: right;\n",
       "    }\n",
       "</style>\n",
       "<table border=\"1\" class=\"dataframe\">\n",
       "  <thead>\n",
       "    <tr style=\"text-align: right;\">\n",
       "      <th></th>\n",
       "      <th>asip</th>\n",
       "      <th>pports</th>\n",
       "      <th>adip</th>\n",
       "      <th>portd</th>\n",
       "      <th>Protocole</th>\n",
       "      <th>État</th>\n",
       "      <th>Durée</th>\n",
       "      <th>Octetss</th>\n",
       "      <th>Octetsd</th>\n",
       "      <th>dvs</th>\n",
       "      <th>dvd</th>\n",
       "      <th>ps</th>\n",
       "      <th>pd</th>\n",
       "      <th>Service</th>\n",
       "      <th>Charge-s</th>\n",
       "      <th>Charge-r</th>\n",
       "      <th>Paquets-s</th>\n",
       "      <th>Paquets-r</th>\n",
       "      <th>FS</th>\n",
       "      <th>FD</th>\n",
       "      <th>NSTCP-S</th>\n",
       "      <th>NSTCP-D</th>\n",
       "      <th>TMS</th>\n",
       "      <th>TMD</th>\n",
       "      <th>Profondeur-t</th>\n",
       "      <th>Lcorps de réponse-rep</th>\n",
       "      <th>Jitter source</th>\n",
       "      <th>Jitter destination</th>\n",
       "      <th>Td</th>\n",
       "      <th>Tf</th>\n",
       "      <th>Int-paquets-s</th>\n",
       "      <th>Int-paquets-d</th>\n",
       "      <th>RTT TCP</th>\n",
       "      <th>SYNACK</th>\n",
       "      <th>ACKDAT</th>\n",
       "      <th>Estps-ip</th>\n",
       "      <th>SC-DV-état</th>\n",
       "      <th>SV-flue HTTP method</th>\n",
       "      <th>EsTfTP-login</th>\n",
       "      <th>SC-FTP-CMD</th>\n",
       "      <th>SC-service-S</th>\n",
       "      <th>SC-service-D</th>\n",
       "      <th>SC-d-LTM</th>\n",
       "      <th>SC-source-LTM</th>\n",
       "      <th>SC-source-dport-LTM</th>\n",
       "      <th>SC-d-sport-LTM</th>\n",
       "      <th>SC-d-S-LTM</th>\n",
       "      <th>Catégorie d'attaque</th>\n",
       "    </tr>\n",
       "  </thead>\n",
       "  <tbody>\n",
       "    <tr>\n",
       "      <th>0</th>\n",
       "      <td>175.45.176.0</td>\n",
       "      <td>47439</td>\n",
       "      <td>149.171.126.10</td>\n",
       "      <td>53</td>\n",
       "      <td>udp</td>\n",
       "      <td>INT</td>\n",
       "      <td>0.000008</td>\n",
       "      <td>114</td>\n",
       "      <td>0</td>\n",
       "      <td>254</td>\n",
       "      <td>0</td>\n",
       "      <td>0</td>\n",
       "      <td>0</td>\n",
       "      <td>dns</td>\n",
       "      <td>5.700000e+07</td>\n",
       "      <td>0.000000e+00</td>\n",
       "      <td>2</td>\n",
       "      <td>0</td>\n",
       "      <td>0</td>\n",
       "      <td>0</td>\n",
       "      <td>0</td>\n",
       "      <td>0</td>\n",
       "      <td>57</td>\n",
       "      <td>0</td>\n",
       "      <td>0</td>\n",
       "      <td>0</td>\n",
       "      <td>0.000000</td>\n",
       "      <td>0.000000</td>\n",
       "      <td>1424260642</td>\n",
       "      <td>1424260642</td>\n",
       "      <td>0.008000</td>\n",
       "      <td>0.000000</td>\n",
       "      <td>0.000000</td>\n",
       "      <td>0.000000</td>\n",
       "      <td>0.000000</td>\n",
       "      <td>0</td>\n",
       "      <td>2</td>\n",
       "      <td>NaN</td>\n",
       "      <td>NaN</td>\n",
       "      <td></td>\n",
       "      <td>33</td>\n",
       "      <td>33</td>\n",
       "      <td>33</td>\n",
       "      <td>34</td>\n",
       "      <td>33</td>\n",
       "      <td>16</td>\n",
       "      <td>33</td>\n",
       "      <td>Generic</td>\n",
       "    </tr>\n",
       "    <tr>\n",
       "      <th>1</th>\n",
       "      <td>59.166.0.9</td>\n",
       "      <td>5467</td>\n",
       "      <td>149.171.126.0</td>\n",
       "      <td>53</td>\n",
       "      <td>udp</td>\n",
       "      <td>CON</td>\n",
       "      <td>0.001351</td>\n",
       "      <td>130</td>\n",
       "      <td>162</td>\n",
       "      <td>31</td>\n",
       "      <td>29</td>\n",
       "      <td>0</td>\n",
       "      <td>0</td>\n",
       "      <td>dns</td>\n",
       "      <td>3.849001e+05</td>\n",
       "      <td>4.796447e+05</td>\n",
       "      <td>2</td>\n",
       "      <td>2</td>\n",
       "      <td>0</td>\n",
       "      <td>0</td>\n",
       "      <td>0</td>\n",
       "      <td>0</td>\n",
       "      <td>65</td>\n",
       "      <td>81</td>\n",
       "      <td>0</td>\n",
       "      <td>0</td>\n",
       "      <td>0.000000</td>\n",
       "      <td>0.000000</td>\n",
       "      <td>1424231073</td>\n",
       "      <td>1424231073</td>\n",
       "      <td>0.006000</td>\n",
       "      <td>0.003000</td>\n",
       "      <td>0.000000</td>\n",
       "      <td>0.000000</td>\n",
       "      <td>0.000000</td>\n",
       "      <td>0</td>\n",
       "      <td>0</td>\n",
       "      <td>NaN</td>\n",
       "      <td>NaN</td>\n",
       "      <td></td>\n",
       "      <td>2</td>\n",
       "      <td>3</td>\n",
       "      <td>4</td>\n",
       "      <td>2</td>\n",
       "      <td>1</td>\n",
       "      <td>1</td>\n",
       "      <td>2</td>\n",
       "      <td>NaN</td>\n",
       "    </tr>\n",
       "    <tr>\n",
       "      <th>2</th>\n",
       "      <td>175.45.176.3</td>\n",
       "      <td>1043</td>\n",
       "      <td>149.171.126.15</td>\n",
       "      <td>53</td>\n",
       "      <td>udp</td>\n",
       "      <td>INT</td>\n",
       "      <td>0.000001</td>\n",
       "      <td>114</td>\n",
       "      <td>0</td>\n",
       "      <td>254</td>\n",
       "      <td>0</td>\n",
       "      <td>0</td>\n",
       "      <td>0</td>\n",
       "      <td>dns</td>\n",
       "      <td>4.560000e+08</td>\n",
       "      <td>0.000000e+00</td>\n",
       "      <td>2</td>\n",
       "      <td>0</td>\n",
       "      <td>0</td>\n",
       "      <td>0</td>\n",
       "      <td>0</td>\n",
       "      <td>0</td>\n",
       "      <td>57</td>\n",
       "      <td>0</td>\n",
       "      <td>0</td>\n",
       "      <td>0</td>\n",
       "      <td>0.000000</td>\n",
       "      <td>0.000000</td>\n",
       "      <td>1424245946</td>\n",
       "      <td>1424245946</td>\n",
       "      <td>0.001000</td>\n",
       "      <td>0.000000</td>\n",
       "      <td>0.000000</td>\n",
       "      <td>0.000000</td>\n",
       "      <td>0.000000</td>\n",
       "      <td>0</td>\n",
       "      <td>2</td>\n",
       "      <td>NaN</td>\n",
       "      <td>NaN</td>\n",
       "      <td></td>\n",
       "      <td>29</td>\n",
       "      <td>29</td>\n",
       "      <td>19</td>\n",
       "      <td>19</td>\n",
       "      <td>19</td>\n",
       "      <td>10</td>\n",
       "      <td>29</td>\n",
       "      <td>Generic</td>\n",
       "    </tr>\n",
       "    <tr>\n",
       "      <th>3</th>\n",
       "      <td>59.166.0.8</td>\n",
       "      <td>58115</td>\n",
       "      <td>149.171.126.5</td>\n",
       "      <td>56000</td>\n",
       "      <td>tcp</td>\n",
       "      <td>FIN</td>\n",
       "      <td>0.047746</td>\n",
       "      <td>3614</td>\n",
       "      <td>48202</td>\n",
       "      <td>31</td>\n",
       "      <td>29</td>\n",
       "      <td>7</td>\n",
       "      <td>24</td>\n",
       "      <td>-</td>\n",
       "      <td>5.954844e+05</td>\n",
       "      <td>7.950237e+06</td>\n",
       "      <td>60</td>\n",
       "      <td>64</td>\n",
       "      <td>255</td>\n",
       "      <td>255</td>\n",
       "      <td>2598168742</td>\n",
       "      <td>2630944202</td>\n",
       "      <td>60</td>\n",
       "      <td>753</td>\n",
       "      <td>0</td>\n",
       "      <td>0</td>\n",
       "      <td>49.338206</td>\n",
       "      <td>47.762731</td>\n",
       "      <td>1424257262</td>\n",
       "      <td>1424257262</td>\n",
       "      <td>0.803814</td>\n",
       "      <td>0.761081</td>\n",
       "      <td>0.000668</td>\n",
       "      <td>0.000556</td>\n",
       "      <td>0.000112</td>\n",
       "      <td>0</td>\n",
       "      <td>0</td>\n",
       "      <td>NaN</td>\n",
       "      <td>NaN</td>\n",
       "      <td></td>\n",
       "      <td>13</td>\n",
       "      <td>4</td>\n",
       "      <td>2</td>\n",
       "      <td>2</td>\n",
       "      <td>1</td>\n",
       "      <td>1</td>\n",
       "      <td>2</td>\n",
       "      <td>NaN</td>\n",
       "    </tr>\n",
       "    <tr>\n",
       "      <th>4</th>\n",
       "      <td>59.166.0.0</td>\n",
       "      <td>12789</td>\n",
       "      <td>149.171.126.0</td>\n",
       "      <td>80</td>\n",
       "      <td>tcp</td>\n",
       "      <td>FIN</td>\n",
       "      <td>1.096957</td>\n",
       "      <td>1580</td>\n",
       "      <td>10168</td>\n",
       "      <td>31</td>\n",
       "      <td>29</td>\n",
       "      <td>3</td>\n",
       "      <td>5</td>\n",
       "      <td>http</td>\n",
       "      <td>1.056742e+04</td>\n",
       "      <td>7.004103e+04</td>\n",
       "      <td>12</td>\n",
       "      <td>18</td>\n",
       "      <td>255</td>\n",
       "      <td>255</td>\n",
       "      <td>2955029510</td>\n",
       "      <td>857504530</td>\n",
       "      <td>132</td>\n",
       "      <td>565</td>\n",
       "      <td>1</td>\n",
       "      <td>3924</td>\n",
       "      <td>9689.928198</td>\n",
       "      <td>7808.578559</td>\n",
       "      <td>1424253469</td>\n",
       "      <td>1424253470</td>\n",
       "      <td>99.691997</td>\n",
       "      <td>64.492058</td>\n",
       "      <td>0.000728</td>\n",
       "      <td>0.000588</td>\n",
       "      <td>0.000140</td>\n",
       "      <td>0</td>\n",
       "      <td>0</td>\n",
       "      <td>1.0</td>\n",
       "      <td>NaN</td>\n",
       "      <td></td>\n",
       "      <td>1</td>\n",
       "      <td>1</td>\n",
       "      <td>1</td>\n",
       "      <td>3</td>\n",
       "      <td>1</td>\n",
       "      <td>1</td>\n",
       "      <td>1</td>\n",
       "      <td>NaN</td>\n",
       "    </tr>\n",
       "  </tbody>\n",
       "</table>\n",
       "</div>"
      ],
      "text/plain": [
       "           asip pports            adip  portd Protocole État     Durée  \\\n",
       "0  175.45.176.0  47439  149.171.126.10     53       udp  INT  0.000008   \n",
       "1    59.166.0.9   5467   149.171.126.0     53       udp  CON  0.001351   \n",
       "2  175.45.176.3   1043  149.171.126.15     53       udp  INT  0.000001   \n",
       "3    59.166.0.8  58115   149.171.126.5  56000       tcp  FIN  0.047746   \n",
       "4    59.166.0.0  12789   149.171.126.0     80       tcp  FIN  1.096957   \n",
       "\n",
       "   Octetss  Octetsd  dvs  dvd  ps  pd Service      Charge-s      Charge-r  \\\n",
       "0      114        0  254    0   0   0     dns  5.700000e+07  0.000000e+00   \n",
       "1      130      162   31   29   0   0     dns  3.849001e+05  4.796447e+05   \n",
       "2      114        0  254    0   0   0     dns  4.560000e+08  0.000000e+00   \n",
       "3     3614    48202   31   29   7  24       -  5.954844e+05  7.950237e+06   \n",
       "4     1580    10168   31   29   3   5    http  1.056742e+04  7.004103e+04   \n",
       "\n",
       "   Paquets-s  Paquets-r   FS   FD     NSTCP-S     NSTCP-D  TMS  TMD  \\\n",
       "0          2          0    0    0           0           0   57    0   \n",
       "1          2          2    0    0           0           0   65   81   \n",
       "2          2          0    0    0           0           0   57    0   \n",
       "3         60         64  255  255  2598168742  2630944202   60  753   \n",
       "4         12         18  255  255  2955029510   857504530  132  565   \n",
       "\n",
       "   Profondeur-t  Lcorps de réponse-rep  Jitter source  Jitter destination  \\\n",
       "0             0                      0       0.000000            0.000000   \n",
       "1             0                      0       0.000000            0.000000   \n",
       "2             0                      0       0.000000            0.000000   \n",
       "3             0                      0      49.338206           47.762731   \n",
       "4             1                   3924    9689.928198         7808.578559   \n",
       "\n",
       "           Td          Tf  Int-paquets-s  Int-paquets-d   RTT TCP    SYNACK  \\\n",
       "0  1424260642  1424260642       0.008000       0.000000  0.000000  0.000000   \n",
       "1  1424231073  1424231073       0.006000       0.003000  0.000000  0.000000   \n",
       "2  1424245946  1424245946       0.001000       0.000000  0.000000  0.000000   \n",
       "3  1424257262  1424257262       0.803814       0.761081  0.000668  0.000556   \n",
       "4  1424253469  1424253470      99.691997      64.492058  0.000728  0.000588   \n",
       "\n",
       "     ACKDAT  Estps-ip  SC-DV-état  SV-flue HTTP method  EsTfTP-login  \\\n",
       "0  0.000000         0           2                  NaN           NaN   \n",
       "1  0.000000         0           0                  NaN           NaN   \n",
       "2  0.000000         0           2                  NaN           NaN   \n",
       "3  0.000112         0           0                  NaN           NaN   \n",
       "4  0.000140         0           0                  1.0           NaN   \n",
       "\n",
       "  SC-FTP-CMD  SC-service-S  SC-service-D  SC-d-LTM  SC-source-LTM  \\\n",
       "0                       33            33        33             34   \n",
       "1                        2             3         4              2   \n",
       "2                       29            29        19             19   \n",
       "3                       13             4         2              2   \n",
       "4                        1             1         1              3   \n",
       "\n",
       "   SC-source-dport-LTM  SC-d-sport-LTM  SC-d-S-LTM Catégorie d'attaque  \n",
       "0                   33              16          33             Generic  \n",
       "1                    1               1           2                 NaN  \n",
       "2                   19              10          29             Generic  \n",
       "3                    1               1           2                 NaN  \n",
       "4                    1               1           1                 NaN  "
      ]
     },
     "execution_count": 3,
     "metadata": {},
     "output_type": "execute_result"
    }
   ],
   "source": [
    "pd.set_option('display.max_columns',None)\n",
    "df.head()"
   ]
  },
  {
   "cell_type": "raw",
   "metadata": {
    "colab": {
     "base_uri": "https://localhost:8080/",
     "height": 472
    },
    "id": "PVcO4qxjuEtD",
    "outputId": "2c32653a-7e54-46e6-8bd6-ec90d2b033e4"
   },
   "source": [
    "df['pports'] = pd.to_numeric(df['pports'], errors='coerce')\n",
    "\n",
    "df = df.dropna(subset=['pports'])\n",
    "\n",
    "plt.hist(df['pports'], bins=20, color='blue', edgecolor='black')\n",
    "\n",
    "plt.xlabel('pports')\n",
    "plt.ylabel('Frequency')\n",
    "plt.title('Histogram of pports')\n",
    "\n",
    "plt.show()\n"
   ]
  },
  {
   "cell_type": "code",
   "execution_count": 6,
   "metadata": {
    "colab": {
     "base_uri": "https://localhost:8080/",
     "height": 472
    },
    "id": "dWKcJtSAvxem",
    "outputId": "3cd48d85-3658-4770-ba6b-6e3f65fbcf35"
   },
   "outputs": [
    {
     "data": {
      "image/png": "[encoded data removed]",
      "text/plain": [
       "<Figure size 640x480 with 1 Axes>"
      ]
     },
     "metadata": {},
     "output_type": "display_data"
    }
   ],
   "source": [
    "df['portd'] = pd.to_numeric(df['portd'], errors='coerce')\n",
    "\n",
    "df = df.dropna(subset=['portd'])\n",
    "\n",
    "plt.hist(df['portd'], bins=20, color='blue', edgecolor='black')\n",
    "\n",
    "plt.xlabel('portd')\n",
    "plt.ylabel('Frequency')\n",
    "plt.title('Histogram of portd')\n",
    "\n",
    "plt.show()\n"
   ]
  },
  {
   "cell_type": "code",
   "execution_count": 7,
   "metadata": {
    "colab": {
     "base_uri": "https://localhost:8080/",
     "height": 672
    },
    "id": "0yh9DrW10xj7",
    "outputId": "e9070411-8c9d-4ae3-9cf9-f46676be0fd3"
   },
   "outputs": [
    {
     "data": {
      "image/png": "[encoded data removed]",
      "text/plain": [
       "<Figure size 1000x600 with 1 Axes>"
      ]
     },
     "metadata": {},
     "output_type": "display_data"
    }
   ],
   "source": [
    "df['pports'] = pd.to_numeric(df['pports'], errors='coerce')\n",
    "\n",
    "plt.figure(figsize=(10, 6))\n",
    "sns.countplot(x='Catégorie d\\'attaque', data=df, palette='viridis')\n",
    "plt.xlabel('Catégorie d\\'attaque')\n",
    "plt.ylabel('Count')\n",
    "plt.title('Count Plot of Catégorie d\\'attaque')\n",
    "plt.show()\n",
    "\n"
   ]
  },
  {
   "cell_type": "code",
   "execution_count": null,
   "metadata": {
    "colab": {
     "base_uri": "https://localhost:8080/",
     "height": 698
    },
    "id": "uToVh7V8hyrW",
    "outputId": "e663de2c-8a86-4197-ffdf-a1f567889572"
   },
   "outputs": [],
   "source": [
    "df['pports'] = pd.to_numeric(df['pports'], errors='coerce')\n",
    "\n",
    "df = df.dropna(subset=['Catégorie d\\'attaque', 'pports'])\n",
    "\n",
    "contingency_table = pd.crosstab(df['Catégorie d\\'attaque'], df['pports'])\n",
    "\n",
    "plt.figure(figsize=(12, 8))\n",
    "sns.heatmap(contingency_table, cmap='viridis', annot=True, fmt='d', cbar=True)\n",
    "plt.xlabel('pports')\n",
    "plt.ylabel('Catégorie d\\'attaque')\n",
    "plt.title('Contingency Table Heatmap')\n",
    "plt.show()\n"
   ]
  },
  {
   "cell_type": "code",
   "execution_count": null,
   "metadata": {
    "id": "sMuMUQ2MjdGt"
   },
   "outputs": [],
   "source": [
    "\n",
    "df['pports'] = pd.to_numeric(df['pports'], errors='coerce')\n",
    "\n",
    "df = df.dropna(subset=['Catégorie d\\'attaque', 'pports'])\n",
    "\n",
    "contingency_table = pd.crosstab(df['Catégorie d\\'attaque'], df['pports'])\n",
    "\n",
    "plt.figure(figsize=(18, 8))\n",
    "sns.barplot(data=contingency_table.reset_index(), x='Catégorie d\\'attaque', y=contingency_table.columns[0], palette='viridis')\n",
    "plt.xlabel('Catégorie d\\'attaque')\n",
    "plt.ylabel('Count')\n",
    "plt.title('Clustered Bar Plot of Catégorie d\\'attaque with pports')\n",
    "plt.show()\n"
   ]
  },
  {
   "cell_type": "code",
   "execution_count": null,
   "metadata": {
    "id": "U_t5cszs07uO"
   },
   "outputs": [],
   "source": [
    "\n",
    "label_encoder = LabelEncoder()\n",
    "df['Catégorie d\\'attaque_encoded'] = label_encoder.fit_transform(df['Catégorie d\\'attaque'])\n",
    "\n",
    "df['pports'] = pd.to_numeric(df['pports'], errors='coerce')\n",
    "plt.figure(figsize=(12, 8))\n",
    "sns.regplot(x='pports', y='Catégorie d\\'attaque_encoded', data=df, scatter=True, line_kws={'color': 'red'})\n",
    "plt.xlabel('pports')\n",
    "plt.ylabel('Catégorie d\\'attaque (Encoded)')\n",
    "plt.title('Regression Plot of pports vs. Catégorie d\\'attaque')\n",
    "plt.show()\n"
   ]
  },
  {
   "cell_type": "code",
   "execution_count": null,
   "metadata": {
    "id": "yRcjBrE-jycj"
   },
   "outputs": [],
   "source": [
    "\n",
    "\n",
    "df['asip_numeric'] = df['asip'].str.split('.').str[-1]\n",
    "df['asip_numeric'] = pd.to_numeric(df['asip_numeric'], errors='coerce')\n",
    "\n",
    "\n",
    "# Filter out non-NaN values and encode them\n",
    "label_encoder = LabelEncoder()\n",
    "encoded_values = label_encoder.fit_transform(df['Catégorie d\\'attaque'].dropna())\n",
    "\n",
    "# Create a new column to store the encoded values\n",
    "df['Encoded_Catégorie'] = pd.NA\n",
    "\n",
    "# Assign the encoded values to the corresponding indices in the new column\n",
    "df.loc[df['Catégorie d\\'attaque'].notna(), 'Encoded_Catégorie'] = encoded_values\n",
    "\n",
    "print(df.head())\n",
    "\n",
    "plt.figure(figsize=(12, 8))\n",
    "sns.regplot(x='asip_numeric', y='Catégorie d\\'attaque_encoded', data=df, scatter=True, line_kws={'color': 'red'})\n",
    "\n",
    "plt.xlabel('asip_numeric')\n",
    "plt.ylabel('Catégorie d\\'attaque (Encoded)')\n",
    "plt.title('Regression Plot of asip_numeric vs. Catégorie d\\'attaque')\n",
    "plt.show()\n"
   ]
  },
  {
   "cell_type": "code",
   "execution_count": null,
   "metadata": {
    "colab": {
     "base_uri": "https://localhost:8080/",
     "height": 675
    },
    "id": "LZXt2Bw8voh5",
    "outputId": "ea7c1128-0058-4366-93f0-94e785b5ead4"
   },
   "outputs": [],
   "source": [
    "\n",
    "attack_category_counts = df['Catégorie d\\'attaque'].value_counts()\n",
    "\n",
    "plt.figure(figsize=(10,8))\n",
    "plt.pie(attack_category_counts, labels=attack_category_counts.index, autopct='%1.1f%%', startangle=140)\n",
    "plt.title('Distribution of Attack Categories')\n",
    "plt.setp(plt.gca().get_xticklabels(), fontsize=50)\n",
    "\n",
    "plt.show()\n"
   ]
  },
  {
   "cell_type": "code",
   "execution_count": null,
   "metadata": {
    "colab": {
     "base_uri": "https://localhost:8080/",
     "height": 444
    },
    "id": "p4jj-Aj92QTK",
    "outputId": "c851ad8e-5188-44a2-856b-b443214e9f32"
   },
   "outputs": [],
   "source": [
    "\n",
    "\n",
    "\n",
    "\n",
    "protocole_counts = df['Protocole'].value_counts()\n",
    "\n",
    "plt.figure(figsize=(5,5))\n",
    "plt.pie(protocole_counts, labels=protocole_counts.index, autopct='%1.1f%%', startangle=140)\n",
    "plt.title('Distribution of Protocole')\n",
    "plt.setp(plt.gca().get_xticklabels(), fontsize=50)\n",
    "\n",
    "plt.show()\n"
   ]
  },
  {
   "cell_type": "code",
   "execution_count": null,
   "metadata": {
    "colab": {
     "base_uri": "https://localhost:8080/",
     "height": 444
    },
    "id": "EpLBYUSc4Waq",
    "outputId": "21e040a5-6906-4f81-fa05-48f66077303d"
   },
   "outputs": [],
   "source": [
    "\n",
    "\n",
    "\n",
    "\n",
    "protocole_counts = df['État'].value_counts()\n",
    "\n",
    "plt.figure(figsize=(5,5))\n",
    "plt.pie(protocole_counts, labels=protocole_counts.index, autopct='%1.1f%%', startangle=140)\n",
    "plt.title('Distribution of État')\n",
    "plt.setp(plt.gca().get_xticklabels(), fontsize=50)\n",
    "\n",
    "plt.show()\n"
   ]
  },
  {
   "cell_type": "code",
   "execution_count": null,
   "metadata": {
    "colab": {
     "base_uri": "https://localhost:8080/",
     "height": 444
    },
    "id": "rwqkP5rPFQtW",
    "outputId": "45147593-a812-478f-b76d-a5a00ee72dfd"
   },
   "outputs": [],
   "source": [
    "\n",
    "\n",
    "\n",
    "\n",
    "protocole_counts = df['SYNACK'].value_counts()\n",
    "\n",
    "plt.figure(figsize=(5,5))\n",
    "plt.pie(protocole_counts, labels=protocole_counts.index, autopct='%1.1f%%', startangle=140)\n",
    "plt.title('Distribution of SYNACK')\n",
    "plt.setp(plt.gca().get_xticklabels(), fontsize=50)\n",
    "\n",
    "plt.show()\n"
   ]
  },
  {
   "cell_type": "code",
   "execution_count": null,
   "metadata": {
    "colab": {
     "base_uri": "https://localhost:8080/",
     "height": 542
    },
    "id": "oVvB9cK19AIi",
    "outputId": "075fc5e0-7ebb-4f58-8ff6-7859a9617de3"
   },
   "outputs": [],
   "source": [
    "\n",
    "\n",
    "\n",
    "plt.figure(figsize=(12, 6))\n",
    "plt.plot(df.index, df['TMS'], label='TMS Time Series')\n",
    "plt.title('Time Series Plot for Transmission Mean Size (TMS)')\n",
    "plt.xlabel('Time')\n",
    "plt.ylabel('Transmission Mean Size (TMS) Values')\n",
    "plt.legend()\n",
    "plt.show()\n"
   ]
  },
  {
   "cell_type": "code",
   "execution_count": null,
   "metadata": {
    "colab": {
     "base_uri": "https://localhost:8080/",
     "height": 584
    },
    "id": "t9VDHY_t-WRB",
    "outputId": "497a86e2-6976-46a9-b059-8d733356f2ce"
   },
   "outputs": [],
   "source": [
    "\n",
    "\n",
    "plt.figure(figsize=(12, 6))\n",
    "plt.plot(df.index, df['TMD'], label='TMD Time Series')\n",
    "plt.title('Time Series Plot for Transmission mean duration')\n",
    "plt.xlabel('Time')\n",
    "plt.ylabel('Transmission mean duration Values')\n",
    "plt.legend()\n",
    "plt.show()\n"
   ]
  },
  {
   "cell_type": "code",
   "execution_count": null,
   "metadata": {
    "colab": {
     "base_uri": "https://localhost:8080/",
     "height": 537
    },
    "id": "j26um-j6_OIP",
    "outputId": "01ba5382-f0a8-493c-dfcb-14848739ac1c"
   },
   "outputs": [],
   "source": [
    "\n",
    "\n",
    "\n",
    "plt.figure(figsize=(12, 6))\n",
    "plt.plot(df.index, df['Int-paquets-s'], label='Interval between packets sent Time Series')\n",
    "plt.title('Time Series Plot for Interval between packets sent.​')\n",
    "plt.xlabel('Time')\n",
    "plt.ylabel('Interval between packets sent values.​')\n",
    "plt.legend()\n",
    "plt.show()\n"
   ]
  },
  {
   "cell_type": "code",
   "execution_count": null,
   "metadata": {
    "colab": {
     "base_uri": "https://localhost:8080/",
     "height": 564
    },
    "id": "HkXQJcXtA1yg",
    "outputId": "558dd52d-d9c8-40b1-b328-e6cd5e2bd6f6"
   },
   "outputs": [],
   "source": [
    "\n",
    "\n",
    "\n",
    "plt.figure(figsize=(12, 6))\n",
    "plt.plot(df.index, df['Int-paquets-d'], label='Interval between packets received Time Series')\n",
    "plt.title('Time Series Plot for Interval between packets received.​')\n",
    "plt.xlabel('Time')\n",
    "plt.ylabel('Interval between packets received values.​')\n",
    "plt.legend()\n",
    "plt.show()\n"
   ]
  },
  {
   "cell_type": "markdown",
   "metadata": {},
   "source": [
    "# Replacing missing values"
   ]
  },
  {
   "cell_type": "code",
   "execution_count": 2,
   "metadata": {
    "colab": {
     "base_uri": "https://localhost:8080/"
    },
    "id": "5MIM8ngSs8Ws",
    "outputId": "96e98503-59fc-455a-8d0d-4daad640802d"
   },
   "outputs": [
    {
     "name": "stdout",
     "output_type": "stream",
     "text": [
      "Columns with '-' in their values:\n",
      "pports\n",
      "portd\n",
      "Service\n",
      "Columns with null values:\n",
      "SV-flue HTTP method\n",
      "EsTfTP-login\n",
      "Catégorie d'attaque\n"
     ]
    }
   ],
   "source": [
    "\n",
    "\n",
    "columns_with_dash = [col for col in df.columns if '-' in df[col].astype(str).values]\n",
    "\n",
    "print(\"Columns with '-' in their values:\")\n",
    "for col in columns_with_dash:\n",
    "    print(col)\n",
    "\n",
    "null_columns = df.columns[df.isnull().any()]\n",
    "print(\"Columns with null values:\")\n",
    "for col in null_columns:\n",
    "    print(col)\n"
   ]
  },
  {
   "cell_type": "code",
   "execution_count": null,
   "metadata": {
    "colab": {
     "base_uri": "https://localhost:8080/",
     "height": 245
    },
    "id": "2u0odvJBjala",
    "outputId": "d1323d31-c18c-44c3-e510-feb4ce99f0b1"
   },
   "outputs": [],
   "source": [
    "unique_values_per_column = {}\n",
    "for column in df.columns:\n",
    "    unique_values_per_column[column] = df[column].unique()\n",
    "\n",
    "for column, unique_values in unique_values_per_column.items():\n",
    "    print(f\"Unique values for column '{column}': {unique_values}\")\n"
   ]
  },
  {
   "cell_type": "code",
   "execution_count": 3,
   "metadata": {
    "colab": {
     "base_uri": "https://localhost:8080/",
     "height": 273
    },
    "id": "g34ovAwbfwAB",
    "outputId": "9d5314ec-1e31-43a4-8d64-80ff489ff902"
   },
   "outputs": [],
   "source": [
    "\n",
    "mean_value = df['SV-flue HTTP method'].mean()\n",
    "df['SV-flue HTTP method'] = df['SV-flue HTTP method'].fillna(mean_value)\n",
    "\n",
    "mean_value2 = df['EsTfTP-login'].mean()\n",
    "df['EsTfTP-login'] = df['EsTfTP-login'].fillna(mean_value2)\n",
    "\n",
    "\n",
    "df.replace(['-', ' '], pd.NA, inplace=True)\n",
    "\n",
    "df['pports'] = pd.to_numeric(df['pports'])\n",
    "mean_value3 = df['pports'].mean()\n",
    "df['pports'] = df['pports'].fillna(mean_value3)\n",
    "\n",
    "\n",
    "df['portd'] = pd.to_numeric(df['portd'],errors='coerce')\n",
    "mean_value4 = df['portd'].mean()\n",
    "df['portd'] = df['portd'].fillna(mean_value4)\n",
    "\n",
    "\n"
   ]
  },
  {
   "cell_type": "code",
   "execution_count": 4,
   "metadata": {},
   "outputs": [],
   "source": [
    "\n",
    "mode_value = df['SC-FTP-CMD'].mode()[0]\n",
    "\n",
    "df['SC-FTP-CMD'].fillna(mode_value, inplace=True)\n",
    "unique_values = df['SC-FTP-CMD'].unique()\n",
    "\n",
    "numerical_mapping = {val: i for i, val in enumerate(unique_values)}\n",
    "\n",
    "df['SC-FTP-CMD'] = df['SC-FTP-CMD'].map(numerical_mapping)\n"
   ]
  },
  {
   "cell_type": "code",
   "execution_count": 5,
   "metadata": {
    "id": "YfKd1araTEIA"
   },
   "outputs": [],
   "source": [
    "\n",
    "df.replace(['-', ' '], pd.NA, inplace=True)\n",
    "mode_value = df['Service'].mode()[0]\n",
    "df['Service'].fillna(mode_value, inplace=True)\n"
   ]
  },
  {
   "cell_type": "code",
   "execution_count": 6,
   "metadata": {},
   "outputs": [],
   "source": [
    "# Replace missing values (NaNs) with the most frequent value\n",
    "most_frequent_value = df['Catégorie d\\'attaque'].mode()[0]\n",
    "df['Catégorie d\\'attaque'].fillna(most_frequent_value, inplace=True)\n"
   ]
  },
  {
   "cell_type": "markdown",
   "metadata": {},
   "source": [
    "# DATA encoding"
   ]
  },
  {
   "cell_type": "code",
   "execution_count": 14,
   "metadata": {},
   "outputs": [
    {
     "ename": "KeyError",
     "evalue": "\"None of [Index(['Protocole'], dtype='object')] are in the [columns]\"",
     "output_type": "error",
     "traceback": [
      "\u001b[1;31m---------------------------------------------------------------------------\u001b[0m",
      "\u001b[1;31mKeyError\u001b[0m                                  Traceback (most recent call last)",
      "\u001b[1;32m~\\AppData\\Local\\Temp\\ipykernel_15824\\2722488099.py\u001b[0m in \u001b[0;36m<module>\u001b[1;34m\u001b[0m\n\u001b[1;32m----> 1\u001b[1;33m \u001b[0mencoded_df\u001b[0m \u001b[1;33m=\u001b[0m \u001b[0mpd\u001b[0m\u001b[1;33m.\u001b[0m\u001b[0mget_dummies\u001b[0m\u001b[1;33m(\u001b[0m\u001b[0mdf\u001b[0m\u001b[1;33m,\u001b[0m \u001b[0mcolumns\u001b[0m\u001b[1;33m=\u001b[0m\u001b[1;33m[\u001b[0m\u001b[1;34m'Protocole'\u001b[0m\u001b[1;33m]\u001b[0m\u001b[1;33m)\u001b[0m\u001b[1;33m\u001b[0m\u001b[1;33m\u001b[0m\u001b[0m\n\u001b[0m\u001b[0;32m      2\u001b[0m \u001b[0mdf\u001b[0m\u001b[1;33m=\u001b[0m\u001b[0mencoded_df\u001b[0m\u001b[1;33m\u001b[0m\u001b[1;33m\u001b[0m\u001b[0m\n",
      "\u001b[1;32m~\\Anaconda3\\lib\\site-packages\\pandas\\core\\reshape\\reshape.py\u001b[0m in \u001b[0;36mget_dummies\u001b[1;34m(data, prefix, prefix_sep, dummy_na, columns, sparse, drop_first, dtype)\u001b[0m\n\u001b[0;32m    929\u001b[0m             \u001b[1;32mraise\u001b[0m \u001b[0mTypeError\u001b[0m\u001b[1;33m(\u001b[0m\u001b[1;34m\"Input must be a list-like for parameter `columns`\"\u001b[0m\u001b[1;33m)\u001b[0m\u001b[1;33m\u001b[0m\u001b[1;33m\u001b[0m\u001b[0m\n\u001b[0;32m    930\u001b[0m         \u001b[1;32melse\u001b[0m\u001b[1;33m:\u001b[0m\u001b[1;33m\u001b[0m\u001b[1;33m\u001b[0m\u001b[0m\n\u001b[1;32m--> 931\u001b[1;33m             \u001b[0mdata_to_encode\u001b[0m \u001b[1;33m=\u001b[0m \u001b[0mdata\u001b[0m\u001b[1;33m[\u001b[0m\u001b[0mcolumns\u001b[0m\u001b[1;33m]\u001b[0m\u001b[1;33m\u001b[0m\u001b[1;33m\u001b[0m\u001b[0m\n\u001b[0m\u001b[0;32m    932\u001b[0m \u001b[1;33m\u001b[0m\u001b[0m\n\u001b[0;32m    933\u001b[0m         \u001b[1;31m# validate prefixes and separator to avoid silently dropping cols\u001b[0m\u001b[1;33m\u001b[0m\u001b[1;33m\u001b[0m\u001b[0m\n",
      "\u001b[1;32m~\\Anaconda3\\lib\\site-packages\\pandas\\core\\frame.py\u001b[0m in \u001b[0;36m__getitem__\u001b[1;34m(self, key)\u001b[0m\n\u001b[0;32m   3509\u001b[0m             \u001b[1;32mif\u001b[0m \u001b[0mis_iterator\u001b[0m\u001b[1;33m(\u001b[0m\u001b[0mkey\u001b[0m\u001b[1;33m)\u001b[0m\u001b[1;33m:\u001b[0m\u001b[1;33m\u001b[0m\u001b[1;33m\u001b[0m\u001b[0m\n\u001b[0;32m   3510\u001b[0m                 \u001b[0mkey\u001b[0m \u001b[1;33m=\u001b[0m \u001b[0mlist\u001b[0m\u001b[1;33m(\u001b[0m\u001b[0mkey\u001b[0m\u001b[1;33m)\u001b[0m\u001b[1;33m\u001b[0m\u001b[1;33m\u001b[0m\u001b[0m\n\u001b[1;32m-> 3511\u001b[1;33m             \u001b[0mindexer\u001b[0m \u001b[1;33m=\u001b[0m \u001b[0mself\u001b[0m\u001b[1;33m.\u001b[0m\u001b[0mcolumns\u001b[0m\u001b[1;33m.\u001b[0m\u001b[0m_get_indexer_strict\u001b[0m\u001b[1;33m(\u001b[0m\u001b[0mkey\u001b[0m\u001b[1;33m,\u001b[0m \u001b[1;34m\"columns\"\u001b[0m\u001b[1;33m)\u001b[0m\u001b[1;33m[\u001b[0m\u001b[1;36m1\u001b[0m\u001b[1;33m]\u001b[0m\u001b[1;33m\u001b[0m\u001b[1;33m\u001b[0m\u001b[0m\n\u001b[0m\u001b[0;32m   3512\u001b[0m \u001b[1;33m\u001b[0m\u001b[0m\n\u001b[0;32m   3513\u001b[0m         \u001b[1;31m# take() does not accept boolean indexers\u001b[0m\u001b[1;33m\u001b[0m\u001b[1;33m\u001b[0m\u001b[0m\n",
      "\u001b[1;32m~\\Anaconda3\\lib\\site-packages\\pandas\\core\\indexes\\base.py\u001b[0m in \u001b[0;36m_get_indexer_strict\u001b[1;34m(self, key, axis_name)\u001b[0m\n\u001b[0;32m   5794\u001b[0m             \u001b[0mkeyarr\u001b[0m\u001b[1;33m,\u001b[0m \u001b[0mindexer\u001b[0m\u001b[1;33m,\u001b[0m \u001b[0mnew_indexer\u001b[0m \u001b[1;33m=\u001b[0m \u001b[0mself\u001b[0m\u001b[1;33m.\u001b[0m\u001b[0m_reindex_non_unique\u001b[0m\u001b[1;33m(\u001b[0m\u001b[0mkeyarr\u001b[0m\u001b[1;33m)\u001b[0m\u001b[1;33m\u001b[0m\u001b[1;33m\u001b[0m\u001b[0m\n\u001b[0;32m   5795\u001b[0m \u001b[1;33m\u001b[0m\u001b[0m\n\u001b[1;32m-> 5796\u001b[1;33m         \u001b[0mself\u001b[0m\u001b[1;33m.\u001b[0m\u001b[0m_raise_if_missing\u001b[0m\u001b[1;33m(\u001b[0m\u001b[0mkeyarr\u001b[0m\u001b[1;33m,\u001b[0m \u001b[0mindexer\u001b[0m\u001b[1;33m,\u001b[0m \u001b[0maxis_name\u001b[0m\u001b[1;33m)\u001b[0m\u001b[1;33m\u001b[0m\u001b[1;33m\u001b[0m\u001b[0m\n\u001b[0m\u001b[0;32m   5797\u001b[0m \u001b[1;33m\u001b[0m\u001b[0m\n\u001b[0;32m   5798\u001b[0m         \u001b[0mkeyarr\u001b[0m \u001b[1;33m=\u001b[0m \u001b[0mself\u001b[0m\u001b[1;33m.\u001b[0m\u001b[0mtake\u001b[0m\u001b[1;33m(\u001b[0m\u001b[0mindexer\u001b[0m\u001b[1;33m)\u001b[0m\u001b[1;33m\u001b[0m\u001b[1;33m\u001b[0m\u001b[0m\n",
      "\u001b[1;32m~\\Anaconda3\\lib\\site-packages\\pandas\\core\\indexes\\base.py\u001b[0m in \u001b[0;36m_raise_if_missing\u001b[1;34m(self, key, indexer, axis_name)\u001b[0m\n\u001b[0;32m   5854\u001b[0m                 \u001b[1;32mif\u001b[0m \u001b[0muse_interval_msg\u001b[0m\u001b[1;33m:\u001b[0m\u001b[1;33m\u001b[0m\u001b[1;33m\u001b[0m\u001b[0m\n\u001b[0;32m   5855\u001b[0m                     \u001b[0mkey\u001b[0m \u001b[1;33m=\u001b[0m \u001b[0mlist\u001b[0m\u001b[1;33m(\u001b[0m\u001b[0mkey\u001b[0m\u001b[1;33m)\u001b[0m\u001b[1;33m\u001b[0m\u001b[1;33m\u001b[0m\u001b[0m\n\u001b[1;32m-> 5856\u001b[1;33m                 \u001b[1;32mraise\u001b[0m \u001b[0mKeyError\u001b[0m\u001b[1;33m(\u001b[0m\u001b[1;34mf\"None of [{key}] are in the [{axis_name}]\"\u001b[0m\u001b[1;33m)\u001b[0m\u001b[1;33m\u001b[0m\u001b[1;33m\u001b[0m\u001b[0m\n\u001b[0m\u001b[0;32m   5857\u001b[0m \u001b[1;33m\u001b[0m\u001b[0m\n\u001b[0;32m   5858\u001b[0m             \u001b[0mnot_found\u001b[0m \u001b[1;33m=\u001b[0m \u001b[0mlist\u001b[0m\u001b[1;33m(\u001b[0m\u001b[0mensure_index\u001b[0m\u001b[1;33m(\u001b[0m\u001b[0mkey\u001b[0m\u001b[1;33m)\u001b[0m\u001b[1;33m[\u001b[0m\u001b[0mmissing_mask\u001b[0m\u001b[1;33m.\u001b[0m\u001b[0mnonzero\u001b[0m\u001b[1;33m(\u001b[0m\u001b[1;33m)\u001b[0m\u001b[1;33m[\u001b[0m\u001b[1;36m0\u001b[0m\u001b[1;33m]\u001b[0m\u001b[1;33m]\u001b[0m\u001b[1;33m.\u001b[0m\u001b[0munique\u001b[0m\u001b[1;33m(\u001b[0m\u001b[1;33m)\u001b[0m\u001b[1;33m)\u001b[0m\u001b[1;33m\u001b[0m\u001b[1;33m\u001b[0m\u001b[0m\n",
      "\u001b[1;31mKeyError\u001b[0m: \"None of [Index(['Protocole'], dtype='object')] are in the [columns]\""
     ]
    }
   ],
   "source": [
    "\n",
    "encoded_df = pd.get_dummies(df, columns=['Protocole'])\n",
    "df=encoded_df\n"
   ]
  },
  {
   "cell_type": "code",
   "execution_count": 15,
   "metadata": {
    "colab": {
     "base_uri": "https://localhost:8080/",
     "height": 255
    },
    "id": "IP1ml9cTcSZe",
    "outputId": "4356bad1-68a5-4b89-d533-31075c0aa960"
   },
   "outputs": [
    {
     "ename": "KeyError",
     "evalue": "\"None of [Index(['État'], dtype='object')] are in the [columns]\"",
     "output_type": "error",
     "traceback": [
      "\u001b[1;31m---------------------------------------------------------------------------\u001b[0m",
      "\u001b[1;31mKeyError\u001b[0m                                  Traceback (most recent call last)",
      "\u001b[1;32m~\\AppData\\Local\\Temp\\ipykernel_15824\\2323358860.py\u001b[0m in \u001b[0;36m<module>\u001b[1;34m\u001b[0m\n\u001b[1;32m----> 1\u001b[1;33m \u001b[0mencoded_df\u001b[0m \u001b[1;33m=\u001b[0m \u001b[0mpd\u001b[0m\u001b[1;33m.\u001b[0m\u001b[0mget_dummies\u001b[0m\u001b[1;33m(\u001b[0m\u001b[0mdf\u001b[0m\u001b[1;33m,\u001b[0m \u001b[0mcolumns\u001b[0m\u001b[1;33m=\u001b[0m\u001b[1;33m[\u001b[0m\u001b[1;34m'État'\u001b[0m\u001b[1;33m]\u001b[0m\u001b[1;33m)\u001b[0m\u001b[1;33m\u001b[0m\u001b[1;33m\u001b[0m\u001b[0m\n\u001b[0m\u001b[0;32m      2\u001b[0m \u001b[0mdf\u001b[0m\u001b[1;33m=\u001b[0m\u001b[0mencoded_df\u001b[0m\u001b[1;33m\u001b[0m\u001b[1;33m\u001b[0m\u001b[0m\n\u001b[0;32m      3\u001b[0m \u001b[1;33m\u001b[0m\u001b[0m\n",
      "\u001b[1;32m~\\Anaconda3\\lib\\site-packages\\pandas\\core\\reshape\\reshape.py\u001b[0m in \u001b[0;36mget_dummies\u001b[1;34m(data, prefix, prefix_sep, dummy_na, columns, sparse, drop_first, dtype)\u001b[0m\n\u001b[0;32m    929\u001b[0m             \u001b[1;32mraise\u001b[0m \u001b[0mTypeError\u001b[0m\u001b[1;33m(\u001b[0m\u001b[1;34m\"Input must be a list-like for parameter `columns`\"\u001b[0m\u001b[1;33m)\u001b[0m\u001b[1;33m\u001b[0m\u001b[1;33m\u001b[0m\u001b[0m\n\u001b[0;32m    930\u001b[0m         \u001b[1;32melse\u001b[0m\u001b[1;33m:\u001b[0m\u001b[1;33m\u001b[0m\u001b[1;33m\u001b[0m\u001b[0m\n\u001b[1;32m--> 931\u001b[1;33m             \u001b[0mdata_to_encode\u001b[0m \u001b[1;33m=\u001b[0m \u001b[0mdata\u001b[0m\u001b[1;33m[\u001b[0m\u001b[0mcolumns\u001b[0m\u001b[1;33m]\u001b[0m\u001b[1;33m\u001b[0m\u001b[1;33m\u001b[0m\u001b[0m\n\u001b[0m\u001b[0;32m    932\u001b[0m \u001b[1;33m\u001b[0m\u001b[0m\n\u001b[0;32m    933\u001b[0m         \u001b[1;31m# validate prefixes and separator to avoid silently dropping cols\u001b[0m\u001b[1;33m\u001b[0m\u001b[1;33m\u001b[0m\u001b[0m\n",
      "\u001b[1;32m~\\Anaconda3\\lib\\site-packages\\pandas\\core\\frame.py\u001b[0m in \u001b[0;36m__getitem__\u001b[1;34m(self, key)\u001b[0m\n\u001b[0;32m   3509\u001b[0m             \u001b[1;32mif\u001b[0m \u001b[0mis_iterator\u001b[0m\u001b[1;33m(\u001b[0m\u001b[0mkey\u001b[0m\u001b[1;33m)\u001b[0m\u001b[1;33m:\u001b[0m\u001b[1;33m\u001b[0m\u001b[1;33m\u001b[0m\u001b[0m\n\u001b[0;32m   3510\u001b[0m                 \u001b[0mkey\u001b[0m \u001b[1;33m=\u001b[0m \u001b[0mlist\u001b[0m\u001b[1;33m(\u001b[0m\u001b[0mkey\u001b[0m\u001b[1;33m)\u001b[0m\u001b[1;33m\u001b[0m\u001b[1;33m\u001b[0m\u001b[0m\n\u001b[1;32m-> 3511\u001b[1;33m             \u001b[0mindexer\u001b[0m \u001b[1;33m=\u001b[0m \u001b[0mself\u001b[0m\u001b[1;33m.\u001b[0m\u001b[0mcolumns\u001b[0m\u001b[1;33m.\u001b[0m\u001b[0m_get_indexer_strict\u001b[0m\u001b[1;33m(\u001b[0m\u001b[0mkey\u001b[0m\u001b[1;33m,\u001b[0m \u001b[1;34m\"columns\"\u001b[0m\u001b[1;33m)\u001b[0m\u001b[1;33m[\u001b[0m\u001b[1;36m1\u001b[0m\u001b[1;33m]\u001b[0m\u001b[1;33m\u001b[0m\u001b[1;33m\u001b[0m\u001b[0m\n\u001b[0m\u001b[0;32m   3512\u001b[0m \u001b[1;33m\u001b[0m\u001b[0m\n\u001b[0;32m   3513\u001b[0m         \u001b[1;31m# take() does not accept boolean indexers\u001b[0m\u001b[1;33m\u001b[0m\u001b[1;33m\u001b[0m\u001b[0m\n",
      "\u001b[1;32m~\\Anaconda3\\lib\\site-packages\\pandas\\core\\indexes\\base.py\u001b[0m in \u001b[0;36m_get_indexer_strict\u001b[1;34m(self, key, axis_name)\u001b[0m\n\u001b[0;32m   5794\u001b[0m             \u001b[0mkeyarr\u001b[0m\u001b[1;33m,\u001b[0m \u001b[0mindexer\u001b[0m\u001b[1;33m,\u001b[0m \u001b[0mnew_indexer\u001b[0m \u001b[1;33m=\u001b[0m \u001b[0mself\u001b[0m\u001b[1;33m.\u001b[0m\u001b[0m_reindex_non_unique\u001b[0m\u001b[1;33m(\u001b[0m\u001b[0mkeyarr\u001b[0m\u001b[1;33m)\u001b[0m\u001b[1;33m\u001b[0m\u001b[1;33m\u001b[0m\u001b[0m\n\u001b[0;32m   5795\u001b[0m \u001b[1;33m\u001b[0m\u001b[0m\n\u001b[1;32m-> 5796\u001b[1;33m         \u001b[0mself\u001b[0m\u001b[1;33m.\u001b[0m\u001b[0m_raise_if_missing\u001b[0m\u001b[1;33m(\u001b[0m\u001b[0mkeyarr\u001b[0m\u001b[1;33m,\u001b[0m \u001b[0mindexer\u001b[0m\u001b[1;33m,\u001b[0m \u001b[0maxis_name\u001b[0m\u001b[1;33m)\u001b[0m\u001b[1;33m\u001b[0m\u001b[1;33m\u001b[0m\u001b[0m\n\u001b[0m\u001b[0;32m   5797\u001b[0m \u001b[1;33m\u001b[0m\u001b[0m\n\u001b[0;32m   5798\u001b[0m         \u001b[0mkeyarr\u001b[0m \u001b[1;33m=\u001b[0m \u001b[0mself\u001b[0m\u001b[1;33m.\u001b[0m\u001b[0mtake\u001b[0m\u001b[1;33m(\u001b[0m\u001b[0mindexer\u001b[0m\u001b[1;33m)\u001b[0m\u001b[1;33m\u001b[0m\u001b[1;33m\u001b[0m\u001b[0m\n",
      "\u001b[1;32m~\\Anaconda3\\lib\\site-packages\\pandas\\core\\indexes\\base.py\u001b[0m in \u001b[0;36m_raise_if_missing\u001b[1;34m(self, key, indexer, axis_name)\u001b[0m\n\u001b[0;32m   5854\u001b[0m                 \u001b[1;32mif\u001b[0m \u001b[0muse_interval_msg\u001b[0m\u001b[1;33m:\u001b[0m\u001b[1;33m\u001b[0m\u001b[1;33m\u001b[0m\u001b[0m\n\u001b[0;32m   5855\u001b[0m                     \u001b[0mkey\u001b[0m \u001b[1;33m=\u001b[0m \u001b[0mlist\u001b[0m\u001b[1;33m(\u001b[0m\u001b[0mkey\u001b[0m\u001b[1;33m)\u001b[0m\u001b[1;33m\u001b[0m\u001b[1;33m\u001b[0m\u001b[0m\n\u001b[1;32m-> 5856\u001b[1;33m                 \u001b[1;32mraise\u001b[0m \u001b[0mKeyError\u001b[0m\u001b[1;33m(\u001b[0m\u001b[1;34mf\"None of [{key}] are in the [{axis_name}]\"\u001b[0m\u001b[1;33m)\u001b[0m\u001b[1;33m\u001b[0m\u001b[1;33m\u001b[0m\u001b[0m\n\u001b[0m\u001b[0;32m   5857\u001b[0m \u001b[1;33m\u001b[0m\u001b[0m\n\u001b[0;32m   5858\u001b[0m             \u001b[0mnot_found\u001b[0m \u001b[1;33m=\u001b[0m \u001b[0mlist\u001b[0m\u001b[1;33m(\u001b[0m\u001b[0mensure_index\u001b[0m\u001b[1;33m(\u001b[0m\u001b[0mkey\u001b[0m\u001b[1;33m)\u001b[0m\u001b[1;33m[\u001b[0m\u001b[0mmissing_mask\u001b[0m\u001b[1;33m.\u001b[0m\u001b[0mnonzero\u001b[0m\u001b[1;33m(\u001b[0m\u001b[1;33m)\u001b[0m\u001b[1;33m[\u001b[0m\u001b[1;36m0\u001b[0m\u001b[1;33m]\u001b[0m\u001b[1;33m]\u001b[0m\u001b[1;33m.\u001b[0m\u001b[0munique\u001b[0m\u001b[1;33m(\u001b[0m\u001b[1;33m)\u001b[0m\u001b[1;33m)\u001b[0m\u001b[1;33m\u001b[0m\u001b[1;33m\u001b[0m\u001b[0m\n",
      "\u001b[1;31mKeyError\u001b[0m: \"None of [Index(['État'], dtype='object')] are in the [columns]\""
     ]
    }
   ],
   "source": [
    "\n",
    "encoded_df = pd.get_dummies(df, columns=['État'])\n",
    "df=encoded_df\n",
    "\n"
   ]
  },
  {
   "cell_type": "markdown",
   "metadata": {
    "id": "OfUeZQCIcET7"
   },
   "source": []
  },
  {
   "cell_type": "code",
   "execution_count": 16,
   "metadata": {
    "id": "5ZGYhOtHTQLW"
   },
   "outputs": [
    {
     "name": "stdout",
     "output_type": "stream",
     "text": [
      "Unique values after label encoding: [ 1  6  2 10  4  5  3  8  7 11  0  9]\n"
     ]
    }
   ],
   "source": [
    "from sklearn.preprocessing import LabelEncoder\n",
    "\n",
    "label_encoder = LabelEncoder()\n",
    "\n",
    "df['Service'] = label_encoder.fit_transform(df['Service'].astype(str))\n",
    "\n",
    "print(\"Unique values after label encoding:\", df['Service'].unique())\n"
   ]
  },
  {
   "cell_type": "code",
   "execution_count": 17,
   "metadata": {},
   "outputs": [],
   "source": [
    "import ipaddress\n",
    "\n",
    "df['asip'] = df['asip'].apply(lambda x: int(ipaddress.IPv4Address(x)) if pd.notnull(x) else None)\n",
    "df['adip'] = df['adip'].apply(lambda x: int(ipaddress.IPv4Address(x)) if pd.notnull(x) else None)\n",
    "\n"
   ]
  },
  {
   "cell_type": "code",
   "execution_count": 18,
   "metadata": {},
   "outputs": [
    {
     "name": "stdout",
     "output_type": "stream",
     "text": [
      "Unique values after label encoding: [ 9  8  7  2  1  4  0 10  3  5  6 11 12]\n"
     ]
    }
   ],
   "source": [
    "from sklearn.preprocessing import LabelEncoder\n",
    "\n",
    "# Filter out non-NaN values and encode them\n",
    "label_encoder = LabelEncoder()\n",
    "encoded_values = label_encoder.fit_transform(df['Catégorie d\\'attaque'].dropna())\n",
    "\n",
    "# Assign the encoded values to the corresponding indices in the original column\n",
    "df.loc[df['Catégorie d\\'attaque'].notna(), 'Catégorie d\\'attaque'] = encoded_values\n",
    "\n",
    "# Print the unique values after label encoding\n",
    "print(\"Unique values after label encoding:\", df['Catégorie d\\'attaque'].unique())\n"
   ]
  },
  {
   "cell_type": "code",
   "execution_count": 19,
   "metadata": {},
   "outputs": [
    {
     "name": "stdout",
     "output_type": "stream",
     "text": [
      "Column names with NaN values: []\n"
     ]
    }
   ],
   "source": [
    "# Get column names with NaN values\n",
    "columns_with_nan = df.columns[df.isna().any()].tolist()\n",
    "\n",
    "# Print column names with NaN values\n",
    "\n",
    "print(\"Column names with NaN values:\", columns_with_nan)\n"
   ]
  },
  {
   "cell_type": "markdown",
   "metadata": {},
   "source": [
    "# verify if there is non numerical columns left"
   ]
  },
  {
   "cell_type": "code",
   "execution_count": 20,
   "metadata": {},
   "outputs": [
    {
     "name": "stdout",
     "output_type": "stream",
     "text": [
      "All columns in the DataFrame are numerical.\n"
     ]
    }
   ],
   "source": [
    "import pandas as pd\n",
    "\n",
    "def get_non_numerical_columns(df):\n",
    "    non_numerical_columns = df.select_dtypes(exclude=['number']).columns.tolist()\n",
    "    if non_numerical_columns:\n",
    "        return non_numerical_columns\n",
    "    else:\n",
    "        return None\n",
    "\n",
    "# Assuming df is your DataFrame\n",
    "non_numerical_columns = get_non_numerical_columns(df)\n",
    "\n",
    "if non_numerical_columns:\n",
    "    print(\"The following columns contain non-numerical values:\", non_numerical_columns)\n",
    "else:\n",
    "    print(\"All columns in the DataFrame are numerical.\")\n"
   ]
  },
  {
   "cell_type": "markdown",
   "metadata": {},
   "source": [
    "# Modeling"
   ]
  },
  {
   "cell_type": "markdown",
   "metadata": {},
   "source": [
    "# Random forest"
   ]
  },
  {
   "cell_type": "code",
   "execution_count": 160,
   "metadata": {},
   "outputs": [
    {
     "name": "stdout",
     "output_type": "stream",
     "text": [
      "Training Accuracy: 0.99290625\n",
      "Testing Accuracy: 0.9799916666666667\n"
     ]
    }
   ],
   "source": [
    "from sklearn.model_selection import train_test_split\n",
    "from sklearn.ensemble import RandomForestClassifier\n",
    "from sklearn.metrics import accuracy_score\n",
    "\n",
    "\n",
    "# Step 1: Extract features (X) and target variable (y) from the DataFrame\n",
    "X = df.drop(columns=['Catégorie d\\'attaque'])  # Drop the target column to get features\n",
    "y = df['Catégorie d\\'attaque']  # Extract the target column\n",
    "\n",
    "# Step 2: Split the data into training and testing sets\n",
    "X_train, X_test, y_train, y_test = train_test_split(X, y, test_size=0.2, random_state=42)\n",
    "\n",
    "# Step 3: Define and train the model\n",
    "model = RandomForestClassifier(n_estimators=100, random_state=42)  # Instantiate the model\n",
    "model.fit(X_train, y_train)  # Train the model on the training data\n",
    "\n",
    "# Step 4: Make predictions\n",
    "y_pred_train = model.predict(X_train)  # Predictions on the training data\n",
    "y_pred_test = model.predict(X_test)    # Predictions on the testing data\n",
    "\n",
    "# Step 5: Evaluate the model\n",
    "train_accuracy = accuracy_score(y_train, y_pred_train)  # Calculate training accuracy\n",
    "test_accuracy = accuracy_score(y_test, y_pred_test)     # Calculate testing accuracy\n",
    "\n",
    "print(\"Training Accuracy:\", train_accuracy)\n",
    "print(\"Testing Accuracy:\", test_accuracy)\n"
   ]
  },
  {
   "cell_type": "markdown",
   "metadata": {},
   "source": [
    "# Support vector machine"
   ]
  },
  {
   "cell_type": "code",
   "execution_count": null,
   "metadata": {},
   "outputs": [],
   "source": [
    "from sklearn.model_selection import train_test_split\n",
    "from sklearn.svm import SVC\n",
    "from sklearn.metrics import accuracy_score\n",
    "\n",
    "X = df.drop(columns=['Catégorie d\\'attaque'])  # Drop the target column to get features\n",
    "y = df['Catégorie d\\'attaque']  # Extract the target column\n",
    "\n",
    "X_train, X_test, y_train, y_test = train_test_split(X, y, test_size=0.2, random_state=42)\n",
    "\n",
    "model = SVC(kernel='linear', random_state=42)  # Instantiate the model with a linear kernel\n",
    "model.fit(X_train, y_train)  # Train the model on the training data\n",
    "\n",
    "y_pred_train = model.predict(X_train)  # Predictions on the training data\n",
    "y_pred_test = model.predict(X_test)    # Predictions on the testing data\n",
    "\n",
    "train_accuracy = accuracy_score(y_train, y_pred_train)  # Calculate training accuracy\n",
    "test_accuracy = accuracy_score(y_test, y_pred_test)     # Calculate testing accuracy\n",
    "\n",
    "print(\"Training Accuracy:\", train_accuracy)\n",
    "print(\"Testing Accuracy:\", test_accuracy)\n"
   ]
  },
  {
   "cell_type": "markdown",
   "metadata": {},
   "source": [
    "# Logistic Regression classifier"
   ]
  },
  {
   "cell_type": "code",
   "execution_count": 21,
   "metadata": {},
   "outputs": [
    {
     "name": "stderr",
     "output_type": "stream",
     "text": [
      "C:\\Users\\habensalah\\Anaconda3\\lib\\site-packages\\sklearn\\linear_model\\_logistic.py:814: ConvergenceWarning: lbfgs failed to converge (status=1):\n",
      "STOP: TOTAL NO. of ITERATIONS REACHED LIMIT.\n",
      "\n",
      "Increase the number of iterations (max_iter) or scale the data as shown in:\n",
      "    https://scikit-learn.org/stable/modules/preprocessing.html\n",
      "Please also refer to the documentation for alternative solver options:\n",
      "    https://scikit-learn.org/stable/modules/linear_model.html#logistic-regression\n",
      "  n_iter_i = _check_optimize_result(\n"
     ]
    },
    {
     "name": "stdout",
     "output_type": "stream",
     "text": [
      "Training Accuracy: 0.9575666666666667\n",
      "Testing Accuracy: 0.9571416666666667\n"
     ]
    }
   ],
   "source": [
    "from sklearn.model_selection import train_test_split\n",
    "from sklearn.linear_model import LogisticRegression\n",
    "from sklearn.metrics import accuracy_score\n",
    "\n",
    "# Step 1: Extract features (X) and target variable (y) from the DataFrame\n",
    "X = df.drop(columns=['Catégorie d\\'attaque'])  # Drop the target column to get features\n",
    "y = df['Catégorie d\\'attaque']  # Extract the target column\n",
    "\n",
    "# Step 2: Split the data into training and testing sets\n",
    "X_train, X_test, y_train, y_test = train_test_split(X, y, test_size=0.2, random_state=42)\n",
    "\n",
    "# Step 3: Define and train the model\n",
    "model = LogisticRegression(max_iter=1000, random_state=42)  # Instantiate the Logistic Regression model\n",
    "model.fit(X_train, y_train)  # Train the model on the training data\n",
    "\n",
    "# Step 4: Make predictions\n",
    "y_pred_train = model.predict(X_train)  # Predictions on the training data\n",
    "y_pred_test = model.predict(X_test)    # Predictions on the testing data\n",
    "\n",
    "# Step 5: Evaluate the model\n",
    "train_accuracy = accuracy_score(y_train, y_pred_train)  # Calculate training accuracy\n",
    "test_accuracy = accuracy_score(y_test, y_pred_test)     # Calculate testing accuracy\n",
    "\n",
    "print(\"Training Accuracy:\", train_accuracy)\n",
    "print(\"Testing Accuracy:\", test_accuracy)\n"
   ]
  },
  {
   "cell_type": "markdown",
   "metadata": {},
   "source": [
    "# Gradient Boosting"
   ]
  },
  {
   "cell_type": "code",
   "execution_count": 22,
   "metadata": {},
   "outputs": [
    {
     "name": "stdout",
     "output_type": "stream",
     "text": [
      "Training Accuracy: 0.96781875\n",
      "Testing Accuracy: 0.9676666666666667\n"
     ]
    }
   ],
   "source": [
    "from sklearn.model_selection import train_test_split\n",
    "from sklearn.ensemble import GradientBoostingClassifier\n",
    "from sklearn.metrics import accuracy_score\n",
    "\n",
    "# Step 1: Extract features (X) and target variable (y) from the DataFrame\n",
    "X = df.drop(columns=['Catégorie d\\'attaque'])  # Drop the target column to get features\n",
    "y = df['Catégorie d\\'attaque']  # Extract the target column\n",
    "\n",
    "# Step 2: Split the data into training and testing sets\n",
    "X_train, X_test, y_train, y_test = train_test_split(X, y, test_size=0.2, random_state=42)\n",
    "\n",
    "# Step 3: Define and train the model\n",
    "model = GradientBoostingClassifier(n_estimators=100, learning_rate=0.1, random_state=42)  # Instantiate the Gradient Boosting model\n",
    "model.fit(X_train, y_train)  # Train the model on the training data\n",
    "\n",
    "# Step 4: Make predictions\n",
    "y_pred_train = model.predict(X_train)  # Predictions on the training data\n",
    "y_pred_test = model.predict(X_test)    # Predictions on the testing data\n",
    "\n",
    "# Step 5: Evaluate the model\n",
    "train_accuracy = accuracy_score(y_train, y_pred_train)  # Calculate training accuracy\n",
    "test_accuracy = accuracy_score(y_test, y_pred_test)     # Calculate testing accuracy\n",
    "\n",
    "print(\"Training Accuracy:\", train_accuracy)\n",
    "print(\"Testing Accuracy:\", test_accuracy)\n"
   ]
  },
  {
   "cell_type": "markdown",
   "metadata": {},
   "source": [
    "# KNN"
   ]
  },
  {
   "cell_type": "code",
   "execution_count": 23,
   "metadata": {},
   "outputs": [
    {
     "name": "stderr",
     "output_type": "stream",
     "text": [
      "C:\\Users\\habensalah\\Anaconda3\\lib\\site-packages\\sklearn\\neighbors\\_classification.py:228: FutureWarning: Unlike other reduction functions (e.g. `skew`, `kurtosis`), the default behavior of `mode` typically preserves the axis it acts along. In SciPy 1.11.0, this behavior will change: the default value of `keepdims` will become False, the `axis` over which the statistic is taken will be eliminated, and the value None will no longer be accepted. Set `keepdims` to True or False to avoid this warning.\n",
      "  mode, _ = stats.mode(_y[neigh_ind, k], axis=1)\n",
      "C:\\Users\\habensalah\\Anaconda3\\lib\\site-packages\\sklearn\\neighbors\\_classification.py:228: FutureWarning: Unlike other reduction functions (e.g. `skew`, `kurtosis`), the default behavior of `mode` typically preserves the axis it acts along. In SciPy 1.11.0, this behavior will change: the default value of `keepdims` will become False, the `axis` over which the statistic is taken will be eliminated, and the value None will no longer be accepted. Set `keepdims` to True or False to avoid this warning.\n",
      "  mode, _ = stats.mode(_y[neigh_ind, k], axis=1)\n"
     ]
    },
    {
     "name": "stdout",
     "output_type": "stream",
     "text": [
      "Training Accuracy: 0.9715208333333333\n",
      "Testing Accuracy: 0.9616416666666666\n"
     ]
    }
   ],
   "source": [
    "from sklearn.model_selection import train_test_split\n",
    "from sklearn.neighbors import KNeighborsClassifier\n",
    "from sklearn.metrics import accuracy_score\n",
    "\n",
    "# Step 1: Extract features (X) and target variable (y) from the DataFrame\n",
    "X = df.drop(columns=['Catégorie d\\'attaque'])  # Drop the target column to get features\n",
    "y = df['Catégorie d\\'attaque']  # Extract the target column\n",
    "\n",
    "# Step 2: Split the data into training and testing sets\n",
    "X_train, X_test, y_train, y_test = train_test_split(X, y, test_size=0.2, random_state=42)\n",
    "\n",
    "# Step 3: Define and train the model\n",
    "model = KNeighborsClassifier(n_neighbors=5)  # Instantiate the KNN model with 5 neighbors\n",
    "model.fit(X_train, y_train)  # Train the model on the training data\n",
    "\n",
    "# Step 4: Make predictions\n",
    "y_pred_train = model.predict(X_train)  # Predictions on the training data\n",
    "y_pred_test = model.predict(X_test)    # Predictions on the testing data\n",
    "\n",
    "# Step 5: Evaluate the model\n",
    "train_accuracy = accuracy_score(y_train, y_pred_train)  # Calculate training accuracy\n",
    "test_accuracy = accuracy_score(y_test, y_pred_test)     # Calculate testing accuracy\n",
    "\n",
    "print(\"Training Accuracy:\", train_accuracy)\n",
    "print(\"Testing Accuracy:\", test_accuracy)\n"
   ]
  },
  {
   "cell_type": "code",
   "execution_count": null,
   "metadata": {},
   "outputs": [],
   "source": []
  }
 ],
 "metadata": {
  "colab": {
   "provenance": [],
   "toc_visible": true
  },
  "kernelspec": {
   "display_name": "Python 3 (ipykernel)",
   "language": "python",
   "name": "python3"
  },
  "language_info": {
   "codemirror_mode": {
    "name": "ipython",
    "version": 3
   },
   "file_extension": ".py",
   "mimetype": "text/x-python",
   "name": "python",
   "nbconvert_exporter": "python",
   "pygments_lexer": "ipython3",
   "version": "3.9.13"
  }
 },
 "nbformat": 4,
 "nbformat_minor": 1
}
